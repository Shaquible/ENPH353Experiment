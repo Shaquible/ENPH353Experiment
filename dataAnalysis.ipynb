{
 "cells": [
  {
   "cell_type": "code",
   "execution_count": 200,
   "metadata": {},
   "outputs": [],
   "source": [
    "#importing libraries\n",
    "import numpy as np\n",
    "import matplotlib.pyplot as plt\n",
    "import pandas as pd\n",
    "import scipy.signal as signal\n",
    "from scipy.fft import fft, fftfreq\n",
    "from scipy.optimize import minimize\n",
    "import os"
   ]
  },
  {
   "cell_type": "code",
   "execution_count": 201,
   "metadata": {},
   "outputs": [],
   "source": [
    "#analysis functions\n",
    "def getData(filename):\n",
    "    # read in the data\n",
    "    df = pd.read_csv(filename)\n",
    "    # convert to numpy array\n",
    "    data = df.to_numpy()\n",
    "    time = data[:, 0]\n",
    "    gyroZ = data[:, 1]\n",
    "    in2 = data[:, 2]\n",
    "    in1 = data[:, 3]\n",
    "    # cutoff overalocated space where all values are 0\n",
    "    cuttOffIdx = np.where(time == 0)\n",
    "    time = time[:cuttOffIdx[0][0]]\n",
    "    gyroZ = gyroZ[:cuttOffIdx[0][0]]\n",
    "    in2 = in2[:cuttOffIdx[0][0]]\n",
    "    in1 = (in1[:cuttOffIdx[0][0]])\n",
    "    return time, gyroZ, in1, in2\n",
    "\n",
    "def alignSignals(cutoffTime, time, in1, in2):\n",
    "    in1Gain = 2.75\n",
    "    if (cutoffTime == -1):\n",
    "        staticTime = -1\n",
    "    else:\n",
    "        staticTime = np.where(time > cutoffTime)[0][0]\n",
    "    S1 = in1[:staticTime]\n",
    "    S2 = in2[:staticTime]\n",
    "    avg = np.mean(S2)\n",
    "    def calcGain(offset):\n",
    "        return np.sum((S1*in1Gain + S2 + offset - 2*avg)**2) + np.sum((S1*in1Gain - S2 + offset)**2)\n",
    "    # limit offset to 2\n",
    "    res = minimize(calcGain, [0], bounds=[(-10, 10)])\n",
    "    offset = res.x[0]\n",
    "    in1Out = in1*in1Gain + offset\n",
    "    in2Out = in2\n",
    "    minValue = np.min([np.min(in1Out), np.min(in2Out)])\n",
    "    in1Out = in1Out - minValue\n",
    "    in2Out = in2Out - minValue\n",
    "    return in1Out, in2Out\n",
    "\n",
    "def filterSignals(time, in1, in2):\n",
    "    # filter signals\n",
    "    fs = 1/np.mean(time[1:]-time[:-1])\n",
    "    b, a = signal.butter(5, 0.4, 'low', fs=fs)\n",
    "    in1 = signal.filtfilt(b, a, in1)\n",
    "    in2 = signal.filtfilt(b, a, in2)\n",
    "    return in1, in2\n",
    "\n",
    "def sumDiff(in1, in2):\n",
    "    # sum and difference of signals\n",
    "    Sum = in1+in2\n",
    "    Diff = in1-in2\n",
    "    return Sum, Diff\n",
    "\n",
    "def calcOmega(Sum, Diff, A, Lambda):\n",
    "    c = 2.99792458e8\n",
    "    deltaPhi = np.arcsin(Diff/Sum)\n",
    "    omega = deltaPhi/(8*A*np.pi)*Lambda*c\n",
    "    #if any value is nan, set to 0\n",
    "    omega[np.isnan(omega)] = 0\n",
    "    return omega\n",
    "\n",
    "def optimizeTotalPower(gyro, Sum, Diff, A, Lambda):\n",
    "    # optimize total power so omega's line up, must be in a region where Sum is constant\n",
    "    def calcErrorOmega(powerOffset):\n",
    "        omega = calcOmega(Sum+powerOffset, Diff, A, Lambda)\n",
    "        return np.sum((gyro - omega)**2)\n",
    "    res = minimize(calcErrorOmega, [0], bounds=[(-10, 10)])\n",
    "    powerOffset = res.x[0]\n",
    "    return powerOffset\n",
    "    \n",
    "def calcPhi(Sum, Diff):\n",
    "    deltaPhi = np.arcsin(Diff/Sum)\n",
    "    return deltaPhi\n",
    "\n",
    "def calcExpectedPhi(omega, A, Lambda):\n",
    "    c = 2.99792458e8\n",
    "    deltaPhi = omega*(8*A*np.pi)/Lambda/c\n",
    "    return deltaPhi\n",
    "    \n",
    "def aSin(x):\n",
    "    return np.arcsin(x)\n",
    "\n",
    "asin = u.wrap(aSin)\n",
    "\n",
    "def calcOmegaWithErr(Sum, Diff, A, Lambda, Verr, Aerr):\n",
    "    c = 2.99792458e8\n",
    "    Sum = u.ufloat(Sum, 2*Verr)\n",
    "    Diff = u.ufloat(Diff, 2*Verr)\n",
    "    A = u.ufloat(A, Aerr)\n",
    "    deltaPhi = asin(Diff/Sum)\n",
    "    omega = deltaPhi/(8*A*np.pi)*Lambda*c\n",
    "    return omega\n",
    "    #make u"
   ]
  },
  {
   "cell_type": "code",
   "execution_count": 202,
   "metadata": {},
   "outputs": [],
   "source": [
    "#plotting functions\n",
    "def plotSignals(time, gyroZ, in1, in2):\n",
    "    #plot voltages and angular velocities on same plot with different y axes\n",
    "    fig, ax1 = plt.subplots()\n",
    "    color = 'tab:red'\n",
    "    ax1.set_xlabel('Time (s)')\n",
    "    ax1.set_ylabel('Signal Voltage (V)', color=color)\n",
    "    ax1.plot(time, in1, 'bo', label='S1', markersize=1)\n",
    "    ax1.plot(time, in2, 'ro',label='S2', markersize=1)\n",
    "    ax1.tick_params(axis='y', labelcolor=color)\n",
    "    ax1.legend(loc='upper right')\n",
    "    ax2 = ax1.twinx()  # instantiate a second axes that shares the same x-axis\n",
    "    color = 'tab:blue'\n",
    "    ax2.set_ylabel('$\\Omega$ (rad/s)', color=color)  # we already handled the x-label with ax1\n",
    "    ax2.plot(time, gyroZ, 'ko',label='Gyroscope', markersize=1)\n",
    "    ax2.tick_params(axis='y', labelcolor=color)\n",
    "    ax2.legend(loc='lower right')\n",
    "    fig.tight_layout()  # otherwise the right y-label is slightly clipped\n",
    "    return fig\n",
    "\n",
    "def plotMathSignals(time, in1, in2, Sum, Diff):\n",
    "    fig, ax = plt.subplots()\n",
    "    ax.plot(time, in1, 'bo', label='S1', markersize=1)\n",
    "    ax.plot(time, in2, 'ro',label='S2', markersize=1)\n",
    "    ax.plot(time, Sum, 'go',label='S1+S2', markersize=1)\n",
    "    ax.plot(time, Diff, 'ko',label='S1-S2', markersize=1)\n",
    "    ax.set_xlabel('Time (s)')\n",
    "    ax.set_ylabel('Signal Voltage (V)')\n",
    "    ax.legend(loc='upper right')\n",
    "    return fig\n",
    "\n",
    "def plotFFT(time, in1, in2):\n",
    "    #plot fft of in1 and in2 on 2 separate plots\n",
    "    fig, (ax1, ax2) = plt.subplots(1, 2)\n",
    "    #in1\n",
    "    # get the fft of the signals\n",
    "    N = len(in1)\n",
    "    T = np.mean(time[1:]-time[:-1])\n",
    "    yf1 = fft(in1)\n",
    "    yf2 = fft(in2)\n",
    "    xf = fftfreq(N, T)[:N//2]\n",
    "    ax1.plot(xf, 2.0/N * np.abs(yf1[0:N//2]), 'bo', label='S1', markersize=1)\n",
    "    ax2.plot(xf, 2.0/N * np.abs(yf2[0:N//2]), 'ro', label='S1', markersize=1)\n",
    "    ax1.set_xlabel('Frequency (Hz)')\n",
    "    ax1.set_ylabel('Amplitude')\n",
    "    ax2.set_xlabel('Frequency (Hz)')\n",
    "    ax1.legend(loc='upper right')\n",
    "    ax2.legend(loc='upper right')\n",
    "    ax2.set_ylim([0,0.3])\n",
    "    return fig\n",
    "\n",
    "def plotOmega(time, gyro, rawOmega, filteredOmega):\n",
    "    fig, ax = plt.subplots()\n",
    "    ax.plot(time, rawOmega, 'bo', label='Unfiltered Laser Gyroscope', markersize=1)\n",
    "    ax.plot(time, filteredOmega, 'ro', label='Filtered Laser Gyroscope', markersize=1)\n",
    "    ax.plot(time, gyro, 'ko', label='Gyroscope', markersize=1)\n",
    "    ax.set_xlabel('Time (s)')\n",
    "    ax.set_ylabel('$\\Omega$ (rad/s)')\n",
    "    ax.legend(loc='lower right')\n",
    "    return fig\n",
    "\n",
    "def plotPhi(time, deltaPhi, expectedDeltaPhi):\n",
    "    fig, ax = plt.subplots()\n",
    "    ax.plot(time, deltaPhi, 'bo', label='Measured $\\Delta\\phi$', markersize=1)\n",
    "    ax.plot(time, expectedDeltaPhi, 'ro', label='Expected $\\Delta\\phi$', markersize=1)\n",
    "    ax.set_xlabel('Time (s)')\n",
    "    ax.set_ylabel('$\\Delta\\phi$ (rad)')\n",
    "    ax.legend(loc='lower right')\n",
    "    return fig\n",
    "\n",
    "def plotOmegaErr(time, gyro, omega, err):\n",
    "    fig, ax = plt.subplots()\n",
    "    ax.plot(time, gyro, 'bo', label='Gyroscope', markersize=1)\n",
    "    ax.plot(time, omega, 'ro', label='Filtered Laser Gyroscope', markersize=1)\n",
    "    ax.plot(time, omega-err, 'ko', markersize=1)\n",
    "    ax.plot(time, omega+err, 'ko', markersize=1)\n",
    "    ax.set_xlabel('Time (s)')\n",
    "    ax.set_ylabel('$\\Omega$ (rad/s)')\n",
    "    ax.legend(loc='lower right')\n",
    "    return fig\n"
   ]
  },
  {
   "cell_type": "code",
   "execution_count": 203,
   "metadata": {},
   "outputs": [],
   "source": [
    "def plotAllAndSave(fname, staticEnd, goodDataStart, goodDataEnd):\n",
    "    #constants\n",
    "    A = 0.634*0.438\n",
    "    Lambda = 632.8e-9\n",
    "    #strip the file extension and the folder name\n",
    "    newFolderName = \"plots/\"+fname.split('/')[-1].split('.')[0]\n",
    "    Fname = fname.split('/')[-1].split('.')[0]\n",
    "    #make a new folder to save the plots if it doesn't already exist\n",
    "    if not os.path.exists(newFolderName):\n",
    "        os.mkdir(newFolderName)\n",
    "    \n",
    "    #gets the signals from the file\n",
    "    time, gyroZ, in1, in2 = getData(fname)\n",
    "    #getting the index of the signal where the data is good\n",
    "    goodDataStart = np.where(time>goodDataStart)[0][0]\n",
    "    if (goodDataEnd != -1):\n",
    "        goodDataEnd = np.where(time>goodDataEnd)[0][0]\n",
    "\n",
    "    #plotting the unprocessed signals\n",
    "    fig = plotSignals(time, gyroZ, in1, in2)\n",
    "    fig.savefig(newFolderName+'/' +Fname +'rawSignals.png', dpi=400, bbox_inches='tight')\n",
    "    \n",
    "    #gain and offset correction of the signals while setting the minumum value of the voltage to 0\n",
    "    in1, in2 = alignSignals(staticEnd,time, in1, in2)\n",
    "    fig = plotSignals(time, gyroZ, in1, in2)\n",
    "    fig.savefig(newFolderName+ '/' + Fname + 'alignedSignals.png', dpi=400, bbox_inches='tight')\n",
    "    \n",
    "    #will plot the fft of the signals\n",
    "    fig = plotFFT(time, in1, in2)\n",
    "    fig.savefig(newFolderName + '/' + Fname +'fft.png', dpi=400, bbox_inches='tight')\n",
    "\n",
    "    #low pass filter the signals to remove noise\n",
    "    in1Filt, in2Filt = filterSignals(time, in1, in2)\n",
    "    fig = plotSignals(time, gyroZ, in1Filt, in2Filt)\n",
    "    fig.savefig(newFolderName+'/' + Fname + 'filteredAlignedSignals.png', dpi=400, bbox_inches='tight')\n",
    "\n",
    "    #calc the sum and difference of the signals\n",
    "    Sum, Diff = sumDiff(in1Filt, in2Filt)\n",
    "    #use the measured gyroscope values to optimize the total signal power (may vary between trials because of small photodiode size)\n",
    "    powerOffset = optimizeTotalPower(gyroZ[goodDataStart:goodDataEnd], Sum[goodDataStart:goodDataEnd], Diff[goodDataStart:goodDataEnd], A, Lambda)\n",
    "    Sum = Sum + powerOffset\n",
    "    in1Filt  = in1Filt + powerOffset/2\n",
    "    in2Filt  = in2Filt + powerOffset/2\n",
    "    fig = plotMathSignals(time, in1Filt, in2Filt, Sum, Diff)\n",
    "    fig.savefig(newFolderName+'/' + Fname + 'manipulatedSignals.png', dpi=400, bbox_inches='tight')\n",
    "\n",
    "    SumUnfilt, DiffUnfilt = sumDiff(in1, in2)\n",
    "    SumUnfilt = SumUnfilt + powerOffset\n",
    "    in1  = in1 + powerOffset/2\n",
    "    in2  = in2 + powerOffset/2\n",
    "    omega = calcOmega(Sum, Diff, A, Lambda)\n",
    "    omegaUnfilt = calcOmega(SumUnfilt, DiffUnfilt, A, Lambda)\n",
    "    fig = plotOmega(time, gyroZ, omegaUnfilt, omega)\n",
    "    fig.savefig(newFolderName+'/' + Fname +'omega.png', dpi=400)\n",
    "\n",
    "    deltaPhis = calcPhi(Sum, Diff)\n",
    "    expectedDeltaPhis = calcExpectedPhi(gyroZ, A, Lambda)\n",
    "    fig = plotPhi(time, deltaPhis, expectedDeltaPhis)\n",
    "    #set image bounds for x larger to avoid cutting off the axis labels\n",
    "    fig.savefig(newFolderName+'/' + Fname + 'phi.png', dpi=400, bbox_inches='tight')\n",
    "    \n",
    "    err = np.zeros(len(time))\n",
    "    for i in range(omega.shape[0]):\n",
    "        err[i] = (calcOmegaWithErr(Sum[i], Diff[i], A, Lambda, 0.07, 0.004)).std_dev\n",
    "    fig = plotOmegaErr(time, gyroZ, omega, err)\n",
    "    fig.savefig(newFolderName+'/' + Fname + 'omegaErr.png', dpi=400, bbox_inches='tight')\n",
    "    return"
   ]
  },
  {
   "cell_type": "code",
   "execution_count": 204,
   "metadata": {},
   "outputs": [
    {
     "name": "stdout",
     "output_type": "stream",
     "text": [
      "0.278+/-0.004\n"
     ]
    }
   ],
   "source": [
    "import uncertainties as u\n",
    "L = u.ufloat(0.634, 0.005)\n",
    "W = u.ufloat(0.438, 0.005)\n",
    "A = L*W\n",
    "print(A)"
   ]
  },
  {
   "cell_type": "code",
   "execution_count": 205,
   "metadata": {},
   "outputs": [
    {
     "name": "stdout",
     "output_type": "stream",
     "text": [
      "in1 std dev:  0.06965083905553214\n",
      "in2 std dev:  0.06541210709013204\n",
      "gyroZ std dev:  0.0014553148350114086\n",
      "gryoZ mean:  -0.0208974110860909\n"
     ]
    }
   ],
   "source": [
    "folder = 'goodData/'\n",
    "#numerical arguments, staticEnd, goodDataStart, goodDataEnd (seconds, -1 for end of array)\n",
    "plotAllAndSave(folder+'finalStat.csv',-1,0,-1)\n",
    "plt.close('all')\n",
    "time, gyroZ, in1, in2 = getData(folder+'finalStat.csv')\n",
    "in1, in2 = alignSignals(-1,time, in1, in2)\n",
    "#calc std dev of the signals\n",
    "print(\"in1 std dev: \", np.std(in1))\n",
    "print(\"in2 std dev: \", np.std(in2))\n",
    "print(\"gyroZ std dev: \", np.std(gyroZ))\n",
    "print(\"gryoZ mean: \", np.mean(gyroZ))"
   ]
  },
  {
   "cell_type": "code",
   "execution_count": 206,
   "metadata": {},
   "outputs": [],
   "source": [
    "plotAllAndSave(folder+'finalSpin1.csv',5,0,34)\n",
    "plt.close('all')"
   ]
  },
  {
   "cell_type": "code",
   "execution_count": 207,
   "metadata": {},
   "outputs": [],
   "source": [
    "plotAllAndSave(folder+'finalSpin2.csv',5,0,18)\n",
    "plt.close('all')"
   ]
  },
  {
   "cell_type": "code",
   "execution_count": 208,
   "metadata": {},
   "outputs": [],
   "source": [
    "plotAllAndSave(folder+'finalSpin2.csv',5,0,-1)\n",
    "plt.close('all')"
   ]
  },
  {
   "cell_type": "code",
   "execution_count": 209,
   "metadata": {},
   "outputs": [],
   "source": [
    "plotAllAndSave(folder+'finalSpin4.csv',5,0,-1)\n",
    "plt.close('all')"
   ]
  },
  {
   "cell_type": "code",
   "execution_count": 210,
   "metadata": {},
   "outputs": [],
   "source": [
    "plotAllAndSave(folder+'finalSpin5.csv',5,0,-1)\n",
    "plt.close('all')"
   ]
  },
  {
   "cell_type": "code",
   "execution_count": 211,
   "metadata": {},
   "outputs": [],
   "source": [
    "plotAllAndSave(folder+'finalSpin6.csv',5,0,-1)\n",
    "plt.close('all')"
   ]
  },
  {
   "cell_type": "code",
   "execution_count": 212,
   "metadata": {},
   "outputs": [],
   "source": [
    "plotAllAndSave(folder+'finalSpin7.csv',3,50,55)\n",
    "plt.close('all')"
   ]
  },
  {
   "cell_type": "code",
   "execution_count": 213,
   "metadata": {},
   "outputs": [
    {
     "name": "stderr",
     "output_type": "stream",
     "text": [
      "C:\\Users\\skell\\AppData\\Local\\Temp\\ipykernel_11368\\1792133264.py:56: RuntimeWarning: invalid value encountered in arcsin\n",
      "  deltaPhi = np.arcsin(Diff/Sum)\n"
     ]
    }
   ],
   "source": [
    "plotAllAndSave(folder+\"spinNeg1.csv\", 5, 10, -1)\n",
    "plt.close('all')"
   ]
  }
 ],
 "metadata": {
  "kernelspec": {
   "display_name": "Python 3.9.12 ('base')",
   "language": "python",
   "name": "python3"
  },
  "language_info": {
   "codemirror_mode": {
    "name": "ipython",
    "version": 3
   },
   "file_extension": ".py",
   "mimetype": "text/x-python",
   "name": "python",
   "nbconvert_exporter": "python",
   "pygments_lexer": "ipython3",
   "version": "3.9.12"
  },
  "orig_nbformat": 4,
  "vscode": {
   "interpreter": {
    "hash": "578e34faf9048d67141d94870028f15481dd09c96cadbed5a1d53fe25c9c5b8f"
   }
  }
 },
 "nbformat": 4,
 "nbformat_minor": 2
}
